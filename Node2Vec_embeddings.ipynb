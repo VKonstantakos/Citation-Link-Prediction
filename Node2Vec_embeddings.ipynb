{
  "nbformat": 4,
  "nbformat_minor": 0,
  "metadata": {
    "colab": {
      "name": "Node2Vec embeddings.ipynb",
      "provenance": [],
      "collapsed_sections": [],
      "machine_shape": "hm"
    },
    "kernelspec": {
      "name": "python3",
      "display_name": "Python 3"
    },
    "language_info": {
      "name": "python"
    }
  },
  "cells": [
    {
      "cell_type": "markdown",
      "source": [
        "## Import libraries"
      ],
      "metadata": {
        "id": "JyINv6S1EmwV"
      }
    },
    {
      "cell_type": "code",
      "source": [
        "!pip install nodevectors\n",
        "!pip install gensim==3.6.0"
      ],
      "metadata": {
        "id": "R65ikQSnGRVB"
      },
      "execution_count": null,
      "outputs": []
    },
    {
      "cell_type": "code",
      "source": [
        "import os\n",
        "import re\n",
        "import csv\n",
        "import gzip\n",
        "import pickle\n",
        "import numpy as np\n",
        "import pandas as pd\n",
        "from tqdm import tqdm\n",
        "from random import randint\n",
        "from collections import Counter\n",
        "\n",
        "import networkx as nx\n",
        "from nodevectors import Node2Vec"
      ],
      "metadata": {
        "id": "StT13yKRXTM-"
      },
      "execution_count": null,
      "outputs": []
    },
    {
      "cell_type": "markdown",
      "source": [
        "## Node2Vec"
      ],
      "metadata": {
        "id": "rISS53HHEfgE"
      }
    },
    {
      "cell_type": "code",
      "source": [
        "G = nx.read_edgelist('data/edgelist.txt', delimiter=',', create_using=nx.Graph(), nodetype=int)\n",
        "nodes = list(G.nodes())\n",
        "n = G.number_of_nodes()\n",
        "m = G.number_of_edges()\n",
        "print('Number of nodes:', n)\n",
        "print('Number of edges:', m)"
      ],
      "metadata": {
        "id": "Ty97rJ3PEgYR"
      },
      "execution_count": null,
      "outputs": []
    },
    {
      "cell_type": "code",
      "source": [
        "model = Node2Vec(n_components=20, walklen=40, epochs=30, threads=2)\n",
        "\n",
        "model.fit(G)\n",
        "\n",
        "node_embeddings = dict()\n",
        "for node in tqdm(nodes):\n",
        "    node_embeddings[node] = model.predict(node)"
      ],
      "metadata": {
        "id": "3CVHSN2KWuQw"
      },
      "execution_count": null,
      "outputs": []
    },
    {
      "cell_type": "code",
      "source": [
        "file = gzip.GzipFile('embeddings/node_embeddings.emb', 'wb')\n",
        "file.write(pickle.dumps(node_embeddings))\n",
        "file.close()"
      ],
      "metadata": {
        "id": "NGPN5VmsWydF"
      },
      "execution_count": null,
      "outputs": []
    }
  ]
}